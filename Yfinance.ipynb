{
  "nbformat": 4,
  "nbformat_minor": 0,
  "metadata": {
    "colab": {
      "name": "Yfinance.ipynb",
      "provenance": [],
      "authorship_tag": "ABX9TyMB40FYUuxBpAQSAQNeetJF",
      "include_colab_link": true
    },
    "kernelspec": {
      "name": "python3",
      "display_name": "Python 3"
    },
    "language_info": {
      "name": "python"
    }
  },
  "cells": [
    {
      "cell_type": "markdown",
      "metadata": {
        "id": "view-in-github",
        "colab_type": "text"
      },
      "source": [
        "<a href=\"https://colab.research.google.com/github/sidcleyss/projeto001/blob/main/Yfinance.ipynb\" target=\"_parent\"><img src=\"https://colab.research.google.com/assets/colab-badge.svg\" alt=\"Open In Colab\"/></a>"
      ]
    },
    {
      "cell_type": "code",
      "source": [
        "# Importando as Bibliotecas\n",
        "import numpy as np\n",
        "import pandas as pd\n",
        "import matplotlib.pyplot as plt\n",
        "import pandas_datareader.data as web\n",
        "\n",
        "# Importando o YFinance e sobrescrevendo os métodos do pandas_datareader\n",
        "import yfinance as yf\n",
        "yf.pdr_override()\n",
        "\n",
        "# Baixando as cotações do Yahoo Finance para o Índice Bovespa\n",
        "ibov = web.get_data_yahoo('^BVSP')\n",
        "\n",
        "# Exibindo as cotações mais antigas\n",
        "ibov.head()\n",
        "\n",
        "# Exibindo as cotações mais recentes\n",
        "ibov.tail()\n",
        "\n",
        "# Plotando o gráfico com o preços de fechamento do Índice Bovespa\n",
        "ibov[\"Close\"].plot(figsize=(22,8));"
      ],
      "metadata": {
        "id": "4sV-dMnTewdt"
      },
      "execution_count": null,
      "outputs": []
    },
    {
      "cell_type": "code",
      "source": [
        ""
      ],
      "metadata": {
        "id": "gtV-NOqtwAIj"
      },
      "execution_count": null,
      "outputs": []
    }
  ]
}